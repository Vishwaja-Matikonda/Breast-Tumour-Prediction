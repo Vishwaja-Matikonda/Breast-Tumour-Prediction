{
  "nbformat": 4,
  "nbformat_minor": 0,
  "metadata": {
    "colab": {
      "name": "Breast_Cancer_P.ipynb",
      "provenance": [],
      "authorship_tag": "ABX9TyNWDMHaBCTydc5L01svb9Mt",
      "include_colab_link": true
    },
    "kernelspec": {
      "name": "python3",
      "display_name": "Python 3"
    }
  },
  "cells": [
    {
      "cell_type": "markdown",
      "metadata": {
        "id": "view-in-github",
        "colab_type": "text"
      },
      "source": [
        "<a href=\"https://colab.research.google.com/github/Vishwaja-Matikonda/Breast-Tumour-Prediction/blob/main/Breast_Cancer_P.ipynb\" target=\"_parent\"><img src=\"https://colab.research.google.com/assets/colab-badge.svg\" alt=\"Open In Colab\"/></a>"
      ]
    },
    {
      "cell_type": "code",
      "metadata": {
        "id": "pqERkNS8I7kL"
      },
      "source": [
        "# import libraries\r\n",
        "import pandas as pd\r\n",
        "import matplotlib.pyplot as plt\r\n",
        "import seaborn as sns\r\n",
        "from sklearn.preprocessing import LabelEncoder\r\n",
        "from sklearn.model_selection import train_test_split\r\n",
        "from sklearn import metrics\r\n",
        "from sklearn.metrics import confusion_matrix, make_scorer\r\n",
        "from sklearn.model_selection import cross_validate\r\n",
        "from sklearn.linear_model import LogisticRegression\r\n",
        "from sklearn.metrics import roc_auc_score, accuracy_score\r\n",
        "from sklearn.svm import SVC\r\n",
        "from sklearn.neighbors import KNeighborsClassifier\r\n",
        "from sklearn.ensemble import RandomForestClassifier\r\n",
        "from sklearn.naive_bayes import GaussianNB\r\n",
        "import warnings\r\n",
        "warnings.filterwarnings(\"ignore\")"
      ],
      "execution_count": 1,
      "outputs": []
    },
    {
      "cell_type": "code",
      "metadata": {
        "colab": {
          "base_uri": "https://localhost:8080/",
          "height": 239
        },
        "id": "cAfSfe1hRj0_",
        "outputId": "219ea980-c32d-4037-bcca-e773237da30f"
      },
      "source": [
        "# read data\r\n",
        "df = pd.read_csv('data.csv')\r\n",
        "# data overview\r\n",
        "df.head()"
      ],
      "execution_count": 4,
      "outputs": [
        {
          "output_type": "execute_result",
          "data": {
            "text/html": [
              "<div>\n",
              "<style scoped>\n",
              "    .dataframe tbody tr th:only-of-type {\n",
              "        vertical-align: middle;\n",
              "    }\n",
              "\n",
              "    .dataframe tbody tr th {\n",
              "        vertical-align: top;\n",
              "    }\n",
              "\n",
              "    .dataframe thead th {\n",
              "        text-align: right;\n",
              "    }\n",
              "</style>\n",
              "<table border=\"1\" class=\"dataframe\">\n",
              "  <thead>\n",
              "    <tr style=\"text-align: right;\">\n",
              "      <th></th>\n",
              "      <th>id</th>\n",
              "      <th>diagnosis</th>\n",
              "      <th>radius_mean</th>\n",
              "      <th>texture_mean</th>\n",
              "      <th>perimeter_mean</th>\n",
              "      <th>area_mean</th>\n",
              "      <th>smoothness_mean</th>\n",
              "      <th>compactness_mean</th>\n",
              "      <th>concavity_mean</th>\n",
              "      <th>concave points_mean</th>\n",
              "      <th>symmetry_mean</th>\n",
              "      <th>fractal_dimension_mean</th>\n",
              "      <th>radius_se</th>\n",
              "      <th>texture_se</th>\n",
              "      <th>perimeter_se</th>\n",
              "      <th>area_se</th>\n",
              "      <th>smoothness_se</th>\n",
              "      <th>compactness_se</th>\n",
              "      <th>concavity_se</th>\n",
              "      <th>concave points_se</th>\n",
              "      <th>symmetry_se</th>\n",
              "      <th>fractal_dimension_se</th>\n",
              "      <th>radius_worst</th>\n",
              "      <th>texture_worst</th>\n",
              "      <th>perimeter_worst</th>\n",
              "      <th>area_worst</th>\n",
              "      <th>smoothness_worst</th>\n",
              "      <th>compactness_worst</th>\n",
              "      <th>concavity_worst</th>\n",
              "      <th>concave points_worst</th>\n",
              "      <th>symmetry_worst</th>\n",
              "      <th>fractal_dimension_worst</th>\n",
              "      <th>Unnamed: 32</th>\n",
              "    </tr>\n",
              "  </thead>\n",
              "  <tbody>\n",
              "    <tr>\n",
              "      <th>0</th>\n",
              "      <td>842302</td>\n",
              "      <td>M</td>\n",
              "      <td>17.99</td>\n",
              "      <td>10.38</td>\n",
              "      <td>122.80</td>\n",
              "      <td>1001.0</td>\n",
              "      <td>0.11840</td>\n",
              "      <td>0.27760</td>\n",
              "      <td>0.3001</td>\n",
              "      <td>0.14710</td>\n",
              "      <td>0.2419</td>\n",
              "      <td>0.07871</td>\n",
              "      <td>1.0950</td>\n",
              "      <td>0.9053</td>\n",
              "      <td>8.589</td>\n",
              "      <td>153.40</td>\n",
              "      <td>0.006399</td>\n",
              "      <td>0.04904</td>\n",
              "      <td>0.05373</td>\n",
              "      <td>0.01587</td>\n",
              "      <td>0.03003</td>\n",
              "      <td>0.006193</td>\n",
              "      <td>25.38</td>\n",
              "      <td>17.33</td>\n",
              "      <td>184.60</td>\n",
              "      <td>2019.0</td>\n",
              "      <td>0.1622</td>\n",
              "      <td>0.6656</td>\n",
              "      <td>0.7119</td>\n",
              "      <td>0.2654</td>\n",
              "      <td>0.4601</td>\n",
              "      <td>0.11890</td>\n",
              "      <td>NaN</td>\n",
              "    </tr>\n",
              "    <tr>\n",
              "      <th>1</th>\n",
              "      <td>842517</td>\n",
              "      <td>M</td>\n",
              "      <td>20.57</td>\n",
              "      <td>17.77</td>\n",
              "      <td>132.90</td>\n",
              "      <td>1326.0</td>\n",
              "      <td>0.08474</td>\n",
              "      <td>0.07864</td>\n",
              "      <td>0.0869</td>\n",
              "      <td>0.07017</td>\n",
              "      <td>0.1812</td>\n",
              "      <td>0.05667</td>\n",
              "      <td>0.5435</td>\n",
              "      <td>0.7339</td>\n",
              "      <td>3.398</td>\n",
              "      <td>74.08</td>\n",
              "      <td>0.005225</td>\n",
              "      <td>0.01308</td>\n",
              "      <td>0.01860</td>\n",
              "      <td>0.01340</td>\n",
              "      <td>0.01389</td>\n",
              "      <td>0.003532</td>\n",
              "      <td>24.99</td>\n",
              "      <td>23.41</td>\n",
              "      <td>158.80</td>\n",
              "      <td>1956.0</td>\n",
              "      <td>0.1238</td>\n",
              "      <td>0.1866</td>\n",
              "      <td>0.2416</td>\n",
              "      <td>0.1860</td>\n",
              "      <td>0.2750</td>\n",
              "      <td>0.08902</td>\n",
              "      <td>NaN</td>\n",
              "    </tr>\n",
              "    <tr>\n",
              "      <th>2</th>\n",
              "      <td>84300903</td>\n",
              "      <td>M</td>\n",
              "      <td>19.69</td>\n",
              "      <td>21.25</td>\n",
              "      <td>130.00</td>\n",
              "      <td>1203.0</td>\n",
              "      <td>0.10960</td>\n",
              "      <td>0.15990</td>\n",
              "      <td>0.1974</td>\n",
              "      <td>0.12790</td>\n",
              "      <td>0.2069</td>\n",
              "      <td>0.05999</td>\n",
              "      <td>0.7456</td>\n",
              "      <td>0.7869</td>\n",
              "      <td>4.585</td>\n",
              "      <td>94.03</td>\n",
              "      <td>0.006150</td>\n",
              "      <td>0.04006</td>\n",
              "      <td>0.03832</td>\n",
              "      <td>0.02058</td>\n",
              "      <td>0.02250</td>\n",
              "      <td>0.004571</td>\n",
              "      <td>23.57</td>\n",
              "      <td>25.53</td>\n",
              "      <td>152.50</td>\n",
              "      <td>1709.0</td>\n",
              "      <td>0.1444</td>\n",
              "      <td>0.4245</td>\n",
              "      <td>0.4504</td>\n",
              "      <td>0.2430</td>\n",
              "      <td>0.3613</td>\n",
              "      <td>0.08758</td>\n",
              "      <td>NaN</td>\n",
              "    </tr>\n",
              "    <tr>\n",
              "      <th>3</th>\n",
              "      <td>84348301</td>\n",
              "      <td>M</td>\n",
              "      <td>11.42</td>\n",
              "      <td>20.38</td>\n",
              "      <td>77.58</td>\n",
              "      <td>386.1</td>\n",
              "      <td>0.14250</td>\n",
              "      <td>0.28390</td>\n",
              "      <td>0.2414</td>\n",
              "      <td>0.10520</td>\n",
              "      <td>0.2597</td>\n",
              "      <td>0.09744</td>\n",
              "      <td>0.4956</td>\n",
              "      <td>1.1560</td>\n",
              "      <td>3.445</td>\n",
              "      <td>27.23</td>\n",
              "      <td>0.009110</td>\n",
              "      <td>0.07458</td>\n",
              "      <td>0.05661</td>\n",
              "      <td>0.01867</td>\n",
              "      <td>0.05963</td>\n",
              "      <td>0.009208</td>\n",
              "      <td>14.91</td>\n",
              "      <td>26.50</td>\n",
              "      <td>98.87</td>\n",
              "      <td>567.7</td>\n",
              "      <td>0.2098</td>\n",
              "      <td>0.8663</td>\n",
              "      <td>0.6869</td>\n",
              "      <td>0.2575</td>\n",
              "      <td>0.6638</td>\n",
              "      <td>0.17300</td>\n",
              "      <td>NaN</td>\n",
              "    </tr>\n",
              "    <tr>\n",
              "      <th>4</th>\n",
              "      <td>84358402</td>\n",
              "      <td>M</td>\n",
              "      <td>20.29</td>\n",
              "      <td>14.34</td>\n",
              "      <td>135.10</td>\n",
              "      <td>1297.0</td>\n",
              "      <td>0.10030</td>\n",
              "      <td>0.13280</td>\n",
              "      <td>0.1980</td>\n",
              "      <td>0.10430</td>\n",
              "      <td>0.1809</td>\n",
              "      <td>0.05883</td>\n",
              "      <td>0.7572</td>\n",
              "      <td>0.7813</td>\n",
              "      <td>5.438</td>\n",
              "      <td>94.44</td>\n",
              "      <td>0.011490</td>\n",
              "      <td>0.02461</td>\n",
              "      <td>0.05688</td>\n",
              "      <td>0.01885</td>\n",
              "      <td>0.01756</td>\n",
              "      <td>0.005115</td>\n",
              "      <td>22.54</td>\n",
              "      <td>16.67</td>\n",
              "      <td>152.20</td>\n",
              "      <td>1575.0</td>\n",
              "      <td>0.1374</td>\n",
              "      <td>0.2050</td>\n",
              "      <td>0.4000</td>\n",
              "      <td>0.1625</td>\n",
              "      <td>0.2364</td>\n",
              "      <td>0.07678</td>\n",
              "      <td>NaN</td>\n",
              "    </tr>\n",
              "  </tbody>\n",
              "</table>\n",
              "</div>"
            ],
            "text/plain": [
              "         id diagnosis  ...  fractal_dimension_worst  Unnamed: 32\n",
              "0    842302         M  ...                  0.11890          NaN\n",
              "1    842517         M  ...                  0.08902          NaN\n",
              "2  84300903         M  ...                  0.08758          NaN\n",
              "3  84348301         M  ...                  0.17300          NaN\n",
              "4  84358402         M  ...                  0.07678          NaN\n",
              "\n",
              "[5 rows x 33 columns]"
            ]
          },
          "metadata": {
            "tags": []
          },
          "execution_count": 4
        }
      ]
    },
    {
      "cell_type": "code",
      "metadata": {
        "id": "xJ__JFLpRy5w"
      },
      "source": [
        "# shuffle the data because data in series\r\n",
        "df = df.sample(frac=1)"
      ],
      "execution_count": 5,
      "outputs": []
    },
    {
      "cell_type": "code",
      "metadata": {
        "colab": {
          "base_uri": "https://localhost:8080/",
          "height": 393
        },
        "id": "mQU72MhaR2az",
        "outputId": "456d7594-19b8-4bff-cd3d-f5e67e3f28fb"
      },
      "source": [
        "df.iloc[:10]"
      ],
      "execution_count": 6,
      "outputs": [
        {
          "output_type": "execute_result",
          "data": {
            "text/html": [
              "<div>\n",
              "<style scoped>\n",
              "    .dataframe tbody tr th:only-of-type {\n",
              "        vertical-align: middle;\n",
              "    }\n",
              "\n",
              "    .dataframe tbody tr th {\n",
              "        vertical-align: top;\n",
              "    }\n",
              "\n",
              "    .dataframe thead th {\n",
              "        text-align: right;\n",
              "    }\n",
              "</style>\n",
              "<table border=\"1\" class=\"dataframe\">\n",
              "  <thead>\n",
              "    <tr style=\"text-align: right;\">\n",
              "      <th></th>\n",
              "      <th>id</th>\n",
              "      <th>diagnosis</th>\n",
              "      <th>radius_mean</th>\n",
              "      <th>texture_mean</th>\n",
              "      <th>perimeter_mean</th>\n",
              "      <th>area_mean</th>\n",
              "      <th>smoothness_mean</th>\n",
              "      <th>compactness_mean</th>\n",
              "      <th>concavity_mean</th>\n",
              "      <th>concave points_mean</th>\n",
              "      <th>symmetry_mean</th>\n",
              "      <th>fractal_dimension_mean</th>\n",
              "      <th>radius_se</th>\n",
              "      <th>texture_se</th>\n",
              "      <th>perimeter_se</th>\n",
              "      <th>area_se</th>\n",
              "      <th>smoothness_se</th>\n",
              "      <th>compactness_se</th>\n",
              "      <th>concavity_se</th>\n",
              "      <th>concave points_se</th>\n",
              "      <th>symmetry_se</th>\n",
              "      <th>fractal_dimension_se</th>\n",
              "      <th>radius_worst</th>\n",
              "      <th>texture_worst</th>\n",
              "      <th>perimeter_worst</th>\n",
              "      <th>area_worst</th>\n",
              "      <th>smoothness_worst</th>\n",
              "      <th>compactness_worst</th>\n",
              "      <th>concavity_worst</th>\n",
              "      <th>concave points_worst</th>\n",
              "      <th>symmetry_worst</th>\n",
              "      <th>fractal_dimension_worst</th>\n",
              "      <th>Unnamed: 32</th>\n",
              "    </tr>\n",
              "  </thead>\n",
              "  <tbody>\n",
              "    <tr>\n",
              "      <th>486</th>\n",
              "      <td>913102</td>\n",
              "      <td>B</td>\n",
              "      <td>14.64</td>\n",
              "      <td>16.85</td>\n",
              "      <td>94.21</td>\n",
              "      <td>666.0</td>\n",
              "      <td>0.08641</td>\n",
              "      <td>0.06698</td>\n",
              "      <td>0.051920</td>\n",
              "      <td>0.02791</td>\n",
              "      <td>0.1409</td>\n",
              "      <td>0.05355</td>\n",
              "      <td>0.2204</td>\n",
              "      <td>1.0060</td>\n",
              "      <td>1.471</td>\n",
              "      <td>19.98</td>\n",
              "      <td>0.003535</td>\n",
              "      <td>0.013930</td>\n",
              "      <td>0.018000</td>\n",
              "      <td>0.006144</td>\n",
              "      <td>0.01254</td>\n",
              "      <td>0.001219</td>\n",
              "      <td>16.46</td>\n",
              "      <td>25.44</td>\n",
              "      <td>106.00</td>\n",
              "      <td>831.0</td>\n",
              "      <td>0.11420</td>\n",
              "      <td>0.20700</td>\n",
              "      <td>0.24370</td>\n",
              "      <td>0.07828</td>\n",
              "      <td>0.2455</td>\n",
              "      <td>0.06596</td>\n",
              "      <td>NaN</td>\n",
              "    </tr>\n",
              "    <tr>\n",
              "      <th>312</th>\n",
              "      <td>89382602</td>\n",
              "      <td>B</td>\n",
              "      <td>12.76</td>\n",
              "      <td>13.37</td>\n",
              "      <td>82.29</td>\n",
              "      <td>504.1</td>\n",
              "      <td>0.08794</td>\n",
              "      <td>0.07948</td>\n",
              "      <td>0.040520</td>\n",
              "      <td>0.02548</td>\n",
              "      <td>0.1601</td>\n",
              "      <td>0.06140</td>\n",
              "      <td>0.3265</td>\n",
              "      <td>0.6594</td>\n",
              "      <td>2.346</td>\n",
              "      <td>25.18</td>\n",
              "      <td>0.006494</td>\n",
              "      <td>0.027680</td>\n",
              "      <td>0.031370</td>\n",
              "      <td>0.010690</td>\n",
              "      <td>0.01731</td>\n",
              "      <td>0.004392</td>\n",
              "      <td>14.19</td>\n",
              "      <td>16.40</td>\n",
              "      <td>92.04</td>\n",
              "      <td>618.8</td>\n",
              "      <td>0.11940</td>\n",
              "      <td>0.22080</td>\n",
              "      <td>0.17690</td>\n",
              "      <td>0.08411</td>\n",
              "      <td>0.2564</td>\n",
              "      <td>0.08253</td>\n",
              "      <td>NaN</td>\n",
              "    </tr>\n",
              "    <tr>\n",
              "      <th>350</th>\n",
              "      <td>899187</td>\n",
              "      <td>B</td>\n",
              "      <td>11.66</td>\n",
              "      <td>17.07</td>\n",
              "      <td>73.70</td>\n",
              "      <td>421.0</td>\n",
              "      <td>0.07561</td>\n",
              "      <td>0.03630</td>\n",
              "      <td>0.008306</td>\n",
              "      <td>0.01162</td>\n",
              "      <td>0.1671</td>\n",
              "      <td>0.05731</td>\n",
              "      <td>0.3534</td>\n",
              "      <td>0.6724</td>\n",
              "      <td>2.225</td>\n",
              "      <td>26.03</td>\n",
              "      <td>0.006583</td>\n",
              "      <td>0.006991</td>\n",
              "      <td>0.005949</td>\n",
              "      <td>0.006296</td>\n",
              "      <td>0.02216</td>\n",
              "      <td>0.002668</td>\n",
              "      <td>13.28</td>\n",
              "      <td>19.74</td>\n",
              "      <td>83.61</td>\n",
              "      <td>542.5</td>\n",
              "      <td>0.09958</td>\n",
              "      <td>0.06476</td>\n",
              "      <td>0.03046</td>\n",
              "      <td>0.04262</td>\n",
              "      <td>0.2731</td>\n",
              "      <td>0.06825</td>\n",
              "      <td>NaN</td>\n",
              "    </tr>\n",
              "    <tr>\n",
              "      <th>126</th>\n",
              "      <td>866083</td>\n",
              "      <td>M</td>\n",
              "      <td>13.61</td>\n",
              "      <td>24.69</td>\n",
              "      <td>87.76</td>\n",
              "      <td>572.6</td>\n",
              "      <td>0.09258</td>\n",
              "      <td>0.07862</td>\n",
              "      <td>0.052850</td>\n",
              "      <td>0.03085</td>\n",
              "      <td>0.1761</td>\n",
              "      <td>0.06130</td>\n",
              "      <td>0.2310</td>\n",
              "      <td>1.0050</td>\n",
              "      <td>1.752</td>\n",
              "      <td>19.83</td>\n",
              "      <td>0.004088</td>\n",
              "      <td>0.011740</td>\n",
              "      <td>0.017960</td>\n",
              "      <td>0.006880</td>\n",
              "      <td>0.01323</td>\n",
              "      <td>0.001465</td>\n",
              "      <td>16.89</td>\n",
              "      <td>35.64</td>\n",
              "      <td>113.20</td>\n",
              "      <td>848.7</td>\n",
              "      <td>0.14710</td>\n",
              "      <td>0.28840</td>\n",
              "      <td>0.37960</td>\n",
              "      <td>0.13290</td>\n",
              "      <td>0.3470</td>\n",
              "      <td>0.07900</td>\n",
              "      <td>NaN</td>\n",
              "    </tr>\n",
              "    <tr>\n",
              "      <th>326</th>\n",
              "      <td>89524</td>\n",
              "      <td>B</td>\n",
              "      <td>14.11</td>\n",
              "      <td>12.88</td>\n",
              "      <td>90.03</td>\n",
              "      <td>616.5</td>\n",
              "      <td>0.09309</td>\n",
              "      <td>0.05306</td>\n",
              "      <td>0.017650</td>\n",
              "      <td>0.02733</td>\n",
              "      <td>0.1373</td>\n",
              "      <td>0.05700</td>\n",
              "      <td>0.2571</td>\n",
              "      <td>1.0810</td>\n",
              "      <td>1.558</td>\n",
              "      <td>23.92</td>\n",
              "      <td>0.006692</td>\n",
              "      <td>0.011320</td>\n",
              "      <td>0.005717</td>\n",
              "      <td>0.006627</td>\n",
              "      <td>0.01416</td>\n",
              "      <td>0.002476</td>\n",
              "      <td>15.53</td>\n",
              "      <td>18.00</td>\n",
              "      <td>98.40</td>\n",
              "      <td>749.9</td>\n",
              "      <td>0.12810</td>\n",
              "      <td>0.11090</td>\n",
              "      <td>0.05307</td>\n",
              "      <td>0.05890</td>\n",
              "      <td>0.2100</td>\n",
              "      <td>0.07083</td>\n",
              "      <td>NaN</td>\n",
              "    </tr>\n",
              "    <tr>\n",
              "      <th>444</th>\n",
              "      <td>9110127</td>\n",
              "      <td>M</td>\n",
              "      <td>18.03</td>\n",
              "      <td>16.85</td>\n",
              "      <td>117.50</td>\n",
              "      <td>990.0</td>\n",
              "      <td>0.08947</td>\n",
              "      <td>0.12320</td>\n",
              "      <td>0.109000</td>\n",
              "      <td>0.06254</td>\n",
              "      <td>0.1720</td>\n",
              "      <td>0.05780</td>\n",
              "      <td>0.2986</td>\n",
              "      <td>0.5906</td>\n",
              "      <td>1.921</td>\n",
              "      <td>35.77</td>\n",
              "      <td>0.004117</td>\n",
              "      <td>0.015600</td>\n",
              "      <td>0.029750</td>\n",
              "      <td>0.009753</td>\n",
              "      <td>0.01295</td>\n",
              "      <td>0.002436</td>\n",
              "      <td>20.38</td>\n",
              "      <td>22.02</td>\n",
              "      <td>133.30</td>\n",
              "      <td>1292.0</td>\n",
              "      <td>0.12630</td>\n",
              "      <td>0.26660</td>\n",
              "      <td>0.42900</td>\n",
              "      <td>0.15350</td>\n",
              "      <td>0.2842</td>\n",
              "      <td>0.08225</td>\n",
              "      <td>NaN</td>\n",
              "    </tr>\n",
              "    <tr>\n",
              "      <th>417</th>\n",
              "      <td>90602302</td>\n",
              "      <td>M</td>\n",
              "      <td>15.50</td>\n",
              "      <td>21.08</td>\n",
              "      <td>102.90</td>\n",
              "      <td>803.1</td>\n",
              "      <td>0.11200</td>\n",
              "      <td>0.15710</td>\n",
              "      <td>0.152200</td>\n",
              "      <td>0.08481</td>\n",
              "      <td>0.2085</td>\n",
              "      <td>0.06864</td>\n",
              "      <td>1.3700</td>\n",
              "      <td>1.2130</td>\n",
              "      <td>9.424</td>\n",
              "      <td>176.50</td>\n",
              "      <td>0.008198</td>\n",
              "      <td>0.038890</td>\n",
              "      <td>0.044930</td>\n",
              "      <td>0.021390</td>\n",
              "      <td>0.02018</td>\n",
              "      <td>0.005815</td>\n",
              "      <td>23.17</td>\n",
              "      <td>27.65</td>\n",
              "      <td>157.10</td>\n",
              "      <td>1748.0</td>\n",
              "      <td>0.15170</td>\n",
              "      <td>0.40020</td>\n",
              "      <td>0.42110</td>\n",
              "      <td>0.21340</td>\n",
              "      <td>0.3003</td>\n",
              "      <td>0.10480</td>\n",
              "      <td>NaN</td>\n",
              "    </tr>\n",
              "    <tr>\n",
              "      <th>207</th>\n",
              "      <td>879830</td>\n",
              "      <td>M</td>\n",
              "      <td>17.01</td>\n",
              "      <td>20.26</td>\n",
              "      <td>109.70</td>\n",
              "      <td>904.3</td>\n",
              "      <td>0.08772</td>\n",
              "      <td>0.07304</td>\n",
              "      <td>0.069500</td>\n",
              "      <td>0.05390</td>\n",
              "      <td>0.2026</td>\n",
              "      <td>0.05223</td>\n",
              "      <td>0.5858</td>\n",
              "      <td>0.8554</td>\n",
              "      <td>4.106</td>\n",
              "      <td>68.46</td>\n",
              "      <td>0.005038</td>\n",
              "      <td>0.015030</td>\n",
              "      <td>0.019460</td>\n",
              "      <td>0.011230</td>\n",
              "      <td>0.02294</td>\n",
              "      <td>0.002581</td>\n",
              "      <td>19.80</td>\n",
              "      <td>25.05</td>\n",
              "      <td>130.00</td>\n",
              "      <td>1210.0</td>\n",
              "      <td>0.11110</td>\n",
              "      <td>0.14860</td>\n",
              "      <td>0.19320</td>\n",
              "      <td>0.10960</td>\n",
              "      <td>0.3275</td>\n",
              "      <td>0.06469</td>\n",
              "      <td>NaN</td>\n",
              "    </tr>\n",
              "    <tr>\n",
              "      <th>229</th>\n",
              "      <td>881861</td>\n",
              "      <td>M</td>\n",
              "      <td>12.83</td>\n",
              "      <td>22.33</td>\n",
              "      <td>85.26</td>\n",
              "      <td>503.2</td>\n",
              "      <td>0.10880</td>\n",
              "      <td>0.17990</td>\n",
              "      <td>0.169500</td>\n",
              "      <td>0.06861</td>\n",
              "      <td>0.2123</td>\n",
              "      <td>0.07254</td>\n",
              "      <td>0.3061</td>\n",
              "      <td>1.0690</td>\n",
              "      <td>2.257</td>\n",
              "      <td>25.13</td>\n",
              "      <td>0.006983</td>\n",
              "      <td>0.038580</td>\n",
              "      <td>0.046830</td>\n",
              "      <td>0.014990</td>\n",
              "      <td>0.01680</td>\n",
              "      <td>0.005617</td>\n",
              "      <td>15.20</td>\n",
              "      <td>30.15</td>\n",
              "      <td>105.30</td>\n",
              "      <td>706.0</td>\n",
              "      <td>0.17770</td>\n",
              "      <td>0.53430</td>\n",
              "      <td>0.62820</td>\n",
              "      <td>0.19770</td>\n",
              "      <td>0.3407</td>\n",
              "      <td>0.12430</td>\n",
              "      <td>NaN</td>\n",
              "    </tr>\n",
              "    <tr>\n",
              "      <th>239</th>\n",
              "      <td>88330202</td>\n",
              "      <td>M</td>\n",
              "      <td>17.46</td>\n",
              "      <td>39.28</td>\n",
              "      <td>113.40</td>\n",
              "      <td>920.6</td>\n",
              "      <td>0.09812</td>\n",
              "      <td>0.12980</td>\n",
              "      <td>0.141700</td>\n",
              "      <td>0.08811</td>\n",
              "      <td>0.1809</td>\n",
              "      <td>0.05966</td>\n",
              "      <td>0.5366</td>\n",
              "      <td>0.8561</td>\n",
              "      <td>3.002</td>\n",
              "      <td>49.00</td>\n",
              "      <td>0.004860</td>\n",
              "      <td>0.027850</td>\n",
              "      <td>0.026020</td>\n",
              "      <td>0.013740</td>\n",
              "      <td>0.01226</td>\n",
              "      <td>0.002759</td>\n",
              "      <td>22.51</td>\n",
              "      <td>44.87</td>\n",
              "      <td>141.20</td>\n",
              "      <td>1408.0</td>\n",
              "      <td>0.13650</td>\n",
              "      <td>0.37350</td>\n",
              "      <td>0.32410</td>\n",
              "      <td>0.20660</td>\n",
              "      <td>0.2853</td>\n",
              "      <td>0.08496</td>\n",
              "      <td>NaN</td>\n",
              "    </tr>\n",
              "  </tbody>\n",
              "</table>\n",
              "</div>"
            ],
            "text/plain": [
              "           id diagnosis  ...  fractal_dimension_worst  Unnamed: 32\n",
              "486    913102         B  ...                  0.06596          NaN\n",
              "312  89382602         B  ...                  0.08253          NaN\n",
              "350    899187         B  ...                  0.06825          NaN\n",
              "126    866083         M  ...                  0.07900          NaN\n",
              "326     89524         B  ...                  0.07083          NaN\n",
              "444   9110127         M  ...                  0.08225          NaN\n",
              "417  90602302         M  ...                  0.10480          NaN\n",
              "207    879830         M  ...                  0.06469          NaN\n",
              "229    881861         M  ...                  0.12430          NaN\n",
              "239  88330202         M  ...                  0.08496          NaN\n",
              "\n",
              "[10 rows x 33 columns]"
            ]
          },
          "metadata": {
            "tags": []
          },
          "execution_count": 6
        }
      ]
    },
    {
      "cell_type": "code",
      "metadata": {
        "id": "1cXT3HEdR4FF"
      },
      "source": [
        "df = df.drop(columns=['Unnamed: 32', 'id'])"
      ],
      "execution_count": 7,
      "outputs": []
    },
    {
      "cell_type": "code",
      "metadata": {
        "colab": {
          "base_uri": "https://localhost:8080/"
        },
        "id": "lsOQtIjnR98C",
        "outputId": "39964da2-8ddb-4552-df92-096c0956008f"
      },
      "source": [
        "# no of rows and columns\r\n",
        "df.shape"
      ],
      "execution_count": 8,
      "outputs": [
        {
          "output_type": "execute_result",
          "data": {
            "text/plain": [
              "(569, 31)"
            ]
          },
          "metadata": {
            "tags": []
          },
          "execution_count": 8
        }
      ]
    },
    {
      "cell_type": "code",
      "metadata": {
        "colab": {
          "base_uri": "https://localhost:8080/"
        },
        "id": "6Fwc5vbnSA5V",
        "outputId": "c2b25038-49db-418b-8352-904b0e4d012c"
      },
      "source": [
        "# Checking the data types\r\n",
        "df.dtypes"
      ],
      "execution_count": 9,
      "outputs": [
        {
          "output_type": "execute_result",
          "data": {
            "text/plain": [
              "diagnosis                   object\n",
              "radius_mean                float64\n",
              "texture_mean               float64\n",
              "perimeter_mean             float64\n",
              "area_mean                  float64\n",
              "smoothness_mean            float64\n",
              "compactness_mean           float64\n",
              "concavity_mean             float64\n",
              "concave points_mean        float64\n",
              "symmetry_mean              float64\n",
              "fractal_dimension_mean     float64\n",
              "radius_se                  float64\n",
              "texture_se                 float64\n",
              "perimeter_se               float64\n",
              "area_se                    float64\n",
              "smoothness_se              float64\n",
              "compactness_se             float64\n",
              "concavity_se               float64\n",
              "concave points_se          float64\n",
              "symmetry_se                float64\n",
              "fractal_dimension_se       float64\n",
              "radius_worst               float64\n",
              "texture_worst              float64\n",
              "perimeter_worst            float64\n",
              "area_worst                 float64\n",
              "smoothness_worst           float64\n",
              "compactness_worst          float64\n",
              "concavity_worst            float64\n",
              "concave points_worst       float64\n",
              "symmetry_worst             float64\n",
              "fractal_dimension_worst    float64\n",
              "dtype: object"
            ]
          },
          "metadata": {
            "tags": []
          },
          "execution_count": 9
        }
      ]
    },
    {
      "cell_type": "code",
      "metadata": {
        "colab": {
          "base_uri": "https://localhost:8080/",
          "height": 331
        },
        "id": "STqZPqepSCns",
        "outputId": "66039299-d19d-4655-ed39-c4724187c803"
      },
      "source": [
        "# Except 'diagnosis' all the columns are numeric\r\n",
        "df.describe()"
      ],
      "execution_count": 10,
      "outputs": [
        {
          "output_type": "execute_result",
          "data": {
            "text/html": [
              "<div>\n",
              "<style scoped>\n",
              "    .dataframe tbody tr th:only-of-type {\n",
              "        vertical-align: middle;\n",
              "    }\n",
              "\n",
              "    .dataframe tbody tr th {\n",
              "        vertical-align: top;\n",
              "    }\n",
              "\n",
              "    .dataframe thead th {\n",
              "        text-align: right;\n",
              "    }\n",
              "</style>\n",
              "<table border=\"1\" class=\"dataframe\">\n",
              "  <thead>\n",
              "    <tr style=\"text-align: right;\">\n",
              "      <th></th>\n",
              "      <th>radius_mean</th>\n",
              "      <th>texture_mean</th>\n",
              "      <th>perimeter_mean</th>\n",
              "      <th>area_mean</th>\n",
              "      <th>smoothness_mean</th>\n",
              "      <th>compactness_mean</th>\n",
              "      <th>concavity_mean</th>\n",
              "      <th>concave points_mean</th>\n",
              "      <th>symmetry_mean</th>\n",
              "      <th>fractal_dimension_mean</th>\n",
              "      <th>radius_se</th>\n",
              "      <th>texture_se</th>\n",
              "      <th>perimeter_se</th>\n",
              "      <th>area_se</th>\n",
              "      <th>smoothness_se</th>\n",
              "      <th>compactness_se</th>\n",
              "      <th>concavity_se</th>\n",
              "      <th>concave points_se</th>\n",
              "      <th>symmetry_se</th>\n",
              "      <th>fractal_dimension_se</th>\n",
              "      <th>radius_worst</th>\n",
              "      <th>texture_worst</th>\n",
              "      <th>perimeter_worst</th>\n",
              "      <th>area_worst</th>\n",
              "      <th>smoothness_worst</th>\n",
              "      <th>compactness_worst</th>\n",
              "      <th>concavity_worst</th>\n",
              "      <th>concave points_worst</th>\n",
              "      <th>symmetry_worst</th>\n",
              "      <th>fractal_dimension_worst</th>\n",
              "    </tr>\n",
              "  </thead>\n",
              "  <tbody>\n",
              "    <tr>\n",
              "      <th>count</th>\n",
              "      <td>569.000000</td>\n",
              "      <td>569.000000</td>\n",
              "      <td>569.000000</td>\n",
              "      <td>569.000000</td>\n",
              "      <td>569.000000</td>\n",
              "      <td>569.000000</td>\n",
              "      <td>569.000000</td>\n",
              "      <td>569.000000</td>\n",
              "      <td>569.000000</td>\n",
              "      <td>569.000000</td>\n",
              "      <td>569.000000</td>\n",
              "      <td>569.000000</td>\n",
              "      <td>569.000000</td>\n",
              "      <td>569.000000</td>\n",
              "      <td>569.000000</td>\n",
              "      <td>569.000000</td>\n",
              "      <td>569.000000</td>\n",
              "      <td>569.000000</td>\n",
              "      <td>569.000000</td>\n",
              "      <td>569.000000</td>\n",
              "      <td>569.000000</td>\n",
              "      <td>569.000000</td>\n",
              "      <td>569.000000</td>\n",
              "      <td>569.000000</td>\n",
              "      <td>569.000000</td>\n",
              "      <td>569.000000</td>\n",
              "      <td>569.000000</td>\n",
              "      <td>569.000000</td>\n",
              "      <td>569.000000</td>\n",
              "      <td>569.000000</td>\n",
              "    </tr>\n",
              "    <tr>\n",
              "      <th>mean</th>\n",
              "      <td>14.127292</td>\n",
              "      <td>19.289649</td>\n",
              "      <td>91.969033</td>\n",
              "      <td>654.889104</td>\n",
              "      <td>0.096360</td>\n",
              "      <td>0.104341</td>\n",
              "      <td>0.088799</td>\n",
              "      <td>0.048919</td>\n",
              "      <td>0.181162</td>\n",
              "      <td>0.062798</td>\n",
              "      <td>0.405172</td>\n",
              "      <td>1.216853</td>\n",
              "      <td>2.866059</td>\n",
              "      <td>40.337079</td>\n",
              "      <td>0.007041</td>\n",
              "      <td>0.025478</td>\n",
              "      <td>0.031894</td>\n",
              "      <td>0.011796</td>\n",
              "      <td>0.020542</td>\n",
              "      <td>0.003795</td>\n",
              "      <td>16.269190</td>\n",
              "      <td>25.677223</td>\n",
              "      <td>107.261213</td>\n",
              "      <td>880.583128</td>\n",
              "      <td>0.132369</td>\n",
              "      <td>0.254265</td>\n",
              "      <td>0.272188</td>\n",
              "      <td>0.114606</td>\n",
              "      <td>0.290076</td>\n",
              "      <td>0.083946</td>\n",
              "    </tr>\n",
              "    <tr>\n",
              "      <th>std</th>\n",
              "      <td>3.524049</td>\n",
              "      <td>4.301036</td>\n",
              "      <td>24.298981</td>\n",
              "      <td>351.914129</td>\n",
              "      <td>0.014064</td>\n",
              "      <td>0.052813</td>\n",
              "      <td>0.079720</td>\n",
              "      <td>0.038803</td>\n",
              "      <td>0.027414</td>\n",
              "      <td>0.007060</td>\n",
              "      <td>0.277313</td>\n",
              "      <td>0.551648</td>\n",
              "      <td>2.021855</td>\n",
              "      <td>45.491006</td>\n",
              "      <td>0.003003</td>\n",
              "      <td>0.017908</td>\n",
              "      <td>0.030186</td>\n",
              "      <td>0.006170</td>\n",
              "      <td>0.008266</td>\n",
              "      <td>0.002646</td>\n",
              "      <td>4.833242</td>\n",
              "      <td>6.146258</td>\n",
              "      <td>33.602542</td>\n",
              "      <td>569.356993</td>\n",
              "      <td>0.022832</td>\n",
              "      <td>0.157336</td>\n",
              "      <td>0.208624</td>\n",
              "      <td>0.065732</td>\n",
              "      <td>0.061867</td>\n",
              "      <td>0.018061</td>\n",
              "    </tr>\n",
              "    <tr>\n",
              "      <th>min</th>\n",
              "      <td>6.981000</td>\n",
              "      <td>9.710000</td>\n",
              "      <td>43.790000</td>\n",
              "      <td>143.500000</td>\n",
              "      <td>0.052630</td>\n",
              "      <td>0.019380</td>\n",
              "      <td>0.000000</td>\n",
              "      <td>0.000000</td>\n",
              "      <td>0.106000</td>\n",
              "      <td>0.049960</td>\n",
              "      <td>0.111500</td>\n",
              "      <td>0.360200</td>\n",
              "      <td>0.757000</td>\n",
              "      <td>6.802000</td>\n",
              "      <td>0.001713</td>\n",
              "      <td>0.002252</td>\n",
              "      <td>0.000000</td>\n",
              "      <td>0.000000</td>\n",
              "      <td>0.007882</td>\n",
              "      <td>0.000895</td>\n",
              "      <td>7.930000</td>\n",
              "      <td>12.020000</td>\n",
              "      <td>50.410000</td>\n",
              "      <td>185.200000</td>\n",
              "      <td>0.071170</td>\n",
              "      <td>0.027290</td>\n",
              "      <td>0.000000</td>\n",
              "      <td>0.000000</td>\n",
              "      <td>0.156500</td>\n",
              "      <td>0.055040</td>\n",
              "    </tr>\n",
              "    <tr>\n",
              "      <th>25%</th>\n",
              "      <td>11.700000</td>\n",
              "      <td>16.170000</td>\n",
              "      <td>75.170000</td>\n",
              "      <td>420.300000</td>\n",
              "      <td>0.086370</td>\n",
              "      <td>0.064920</td>\n",
              "      <td>0.029560</td>\n",
              "      <td>0.020310</td>\n",
              "      <td>0.161900</td>\n",
              "      <td>0.057700</td>\n",
              "      <td>0.232400</td>\n",
              "      <td>0.833900</td>\n",
              "      <td>1.606000</td>\n",
              "      <td>17.850000</td>\n",
              "      <td>0.005169</td>\n",
              "      <td>0.013080</td>\n",
              "      <td>0.015090</td>\n",
              "      <td>0.007638</td>\n",
              "      <td>0.015160</td>\n",
              "      <td>0.002248</td>\n",
              "      <td>13.010000</td>\n",
              "      <td>21.080000</td>\n",
              "      <td>84.110000</td>\n",
              "      <td>515.300000</td>\n",
              "      <td>0.116600</td>\n",
              "      <td>0.147200</td>\n",
              "      <td>0.114500</td>\n",
              "      <td>0.064930</td>\n",
              "      <td>0.250400</td>\n",
              "      <td>0.071460</td>\n",
              "    </tr>\n",
              "    <tr>\n",
              "      <th>50%</th>\n",
              "      <td>13.370000</td>\n",
              "      <td>18.840000</td>\n",
              "      <td>86.240000</td>\n",
              "      <td>551.100000</td>\n",
              "      <td>0.095870</td>\n",
              "      <td>0.092630</td>\n",
              "      <td>0.061540</td>\n",
              "      <td>0.033500</td>\n",
              "      <td>0.179200</td>\n",
              "      <td>0.061540</td>\n",
              "      <td>0.324200</td>\n",
              "      <td>1.108000</td>\n",
              "      <td>2.287000</td>\n",
              "      <td>24.530000</td>\n",
              "      <td>0.006380</td>\n",
              "      <td>0.020450</td>\n",
              "      <td>0.025890</td>\n",
              "      <td>0.010930</td>\n",
              "      <td>0.018730</td>\n",
              "      <td>0.003187</td>\n",
              "      <td>14.970000</td>\n",
              "      <td>25.410000</td>\n",
              "      <td>97.660000</td>\n",
              "      <td>686.500000</td>\n",
              "      <td>0.131300</td>\n",
              "      <td>0.211900</td>\n",
              "      <td>0.226700</td>\n",
              "      <td>0.099930</td>\n",
              "      <td>0.282200</td>\n",
              "      <td>0.080040</td>\n",
              "    </tr>\n",
              "    <tr>\n",
              "      <th>75%</th>\n",
              "      <td>15.780000</td>\n",
              "      <td>21.800000</td>\n",
              "      <td>104.100000</td>\n",
              "      <td>782.700000</td>\n",
              "      <td>0.105300</td>\n",
              "      <td>0.130400</td>\n",
              "      <td>0.130700</td>\n",
              "      <td>0.074000</td>\n",
              "      <td>0.195700</td>\n",
              "      <td>0.066120</td>\n",
              "      <td>0.478900</td>\n",
              "      <td>1.474000</td>\n",
              "      <td>3.357000</td>\n",
              "      <td>45.190000</td>\n",
              "      <td>0.008146</td>\n",
              "      <td>0.032450</td>\n",
              "      <td>0.042050</td>\n",
              "      <td>0.014710</td>\n",
              "      <td>0.023480</td>\n",
              "      <td>0.004558</td>\n",
              "      <td>18.790000</td>\n",
              "      <td>29.720000</td>\n",
              "      <td>125.400000</td>\n",
              "      <td>1084.000000</td>\n",
              "      <td>0.146000</td>\n",
              "      <td>0.339100</td>\n",
              "      <td>0.382900</td>\n",
              "      <td>0.161400</td>\n",
              "      <td>0.317900</td>\n",
              "      <td>0.092080</td>\n",
              "    </tr>\n",
              "    <tr>\n",
              "      <th>max</th>\n",
              "      <td>28.110000</td>\n",
              "      <td>39.280000</td>\n",
              "      <td>188.500000</td>\n",
              "      <td>2501.000000</td>\n",
              "      <td>0.163400</td>\n",
              "      <td>0.345400</td>\n",
              "      <td>0.426800</td>\n",
              "      <td>0.201200</td>\n",
              "      <td>0.304000</td>\n",
              "      <td>0.097440</td>\n",
              "      <td>2.873000</td>\n",
              "      <td>4.885000</td>\n",
              "      <td>21.980000</td>\n",
              "      <td>542.200000</td>\n",
              "      <td>0.031130</td>\n",
              "      <td>0.135400</td>\n",
              "      <td>0.396000</td>\n",
              "      <td>0.052790</td>\n",
              "      <td>0.078950</td>\n",
              "      <td>0.029840</td>\n",
              "      <td>36.040000</td>\n",
              "      <td>49.540000</td>\n",
              "      <td>251.200000</td>\n",
              "      <td>4254.000000</td>\n",
              "      <td>0.222600</td>\n",
              "      <td>1.058000</td>\n",
              "      <td>1.252000</td>\n",
              "      <td>0.291000</td>\n",
              "      <td>0.663800</td>\n",
              "      <td>0.207500</td>\n",
              "    </tr>\n",
              "  </tbody>\n",
              "</table>\n",
              "</div>"
            ],
            "text/plain": [
              "       radius_mean  texture_mean  ...  symmetry_worst  fractal_dimension_worst\n",
              "count   569.000000    569.000000  ...      569.000000               569.000000\n",
              "mean     14.127292     19.289649  ...        0.290076                 0.083946\n",
              "std       3.524049      4.301036  ...        0.061867                 0.018061\n",
              "min       6.981000      9.710000  ...        0.156500                 0.055040\n",
              "25%      11.700000     16.170000  ...        0.250400                 0.071460\n",
              "50%      13.370000     18.840000  ...        0.282200                 0.080040\n",
              "75%      15.780000     21.800000  ...        0.317900                 0.092080\n",
              "max      28.110000     39.280000  ...        0.663800                 0.207500\n",
              "\n",
              "[8 rows x 30 columns]"
            ]
          },
          "metadata": {
            "tags": []
          },
          "execution_count": 10
        }
      ]
    },
    {
      "cell_type": "code",
      "metadata": {
        "colab": {
          "base_uri": "https://localhost:8080/"
        },
        "id": "xgsFNvFsSH2N",
        "outputId": "616bace9-0ed7-4341-8c72-10b27a6de8c0"
      },
      "source": [
        "# check for null values in dataset\r\n",
        "df.isnull().values.any()"
      ],
      "execution_count": 11,
      "outputs": [
        {
          "output_type": "execute_result",
          "data": {
            "text/plain": [
              "False"
            ]
          },
          "metadata": {
            "tags": []
          },
          "execution_count": 11
        }
      ]
    },
    {
      "cell_type": "code",
      "metadata": {
        "colab": {
          "base_uri": "https://localhost:8080/"
        },
        "id": "atvb8X5ISKvm",
        "outputId": "ba7a6e92-ec5c-483f-c74b-20cf9ee555e2"
      },
      "source": [
        "# Count class labels\r\n",
        "df['diagnosis'].value_counts()"
      ],
      "execution_count": 12,
      "outputs": [
        {
          "output_type": "execute_result",
          "data": {
            "text/plain": [
              "B    357\n",
              "M    212\n",
              "Name: diagnosis, dtype: int64"
            ]
          },
          "metadata": {
            "tags": []
          },
          "execution_count": 12
        }
      ]
    },
    {
      "cell_type": "code",
      "metadata": {
        "colab": {
          "base_uri": "https://localhost:8080/",
          "height": 853
        },
        "id": "vr8daXIGSNsI",
        "outputId": "274b47f4-d279-42fb-d32a-a6e02c0a38ad"
      },
      "source": [
        "# Data visualization to create histogram\r\n",
        "df.hist(bins=50, figsize=(15, 15))\r\n",
        "plt.show()\r\n",
        "\r\n"
      ],
      "execution_count": 25,
      "outputs": [
        {
          "output_type": "display_data",
          "data": {
            "image/png": "[encoded data removed]",
            "text/plain": [
              "<Figure size 1080x1080 with 30 Axes>"
            ]
          },
          "metadata": {
            "tags": [],
            "needs_background": "light"
          }
        }
      ]
    },
    {
      "cell_type": "code",
      "metadata": {
        "colab": {
          "base_uri": "https://localhost:8080/",
          "height": 725
        },
        "id": "2S63WGVxfjAd",
        "outputId": "7717286a-9b6b-4652-cab5-1e36d836dbc6"
      },
      "source": [
        "# Finding correlation\r\n",
        "fig, ax = plt.subplots(figsize=(12, 10))\r\n",
        "sns.heatmap(df.corr(), ax=ax)\r\n"
      ],
      "execution_count": 26,
      "outputs": [
        {
          "output_type": "execute_result",
          "data": {
            "text/plain": [
              "<matplotlib.axes._subplots.AxesSubplot at 0x7f2de46ee940>"
            ]
          },
          "metadata": {
            "tags": []
          },
          "execution_count": 26
        },
        {
          "output_type": "display_data",
          "data": {
            "image/png": "[encoded data removed]",
            "text/plain": [
              "<Figure size 864x720 with 2 Axes>"
            ]
          },
          "metadata": {
            "tags": [],
            "needs_background": "light"
          }
        }
      ]
    },
    {
      "cell_type": "code",
      "metadata": {
        "colab": {
          "base_uri": "https://localhost:8080/",
          "height": 349
        },
        "id": "KFaZCUV7f0sC",
        "outputId": "b9835ae2-7f70-4afa-cd3d-4a764a3045b5"
      },
      "source": [
        "print(df.groupby('diagnosis').size())\r\n",
        "sns.countplot(df['diagnosis'],label=\"Count\")\r\n",
        "plt.show()"
      ],
      "execution_count": 27,
      "outputs": [
        {
          "output_type": "stream",
          "text": [
            "diagnosis\n",
            "B    357\n",
            "M    212\n",
            "dtype: int64\n"
          ],
          "name": "stdout"
        },
        {
          "output_type": "display_data",
          "data": {
            "image/png": "[encoded data removed]",
            "text/plain": [
              "<Figure size 432x288 with 1 Axes>"
            ]
          },
          "metadata": {
            "tags": [],
            "needs_background": "light"
          }
        }
      ]
    },
    {
      "cell_type": "code",
      "metadata": {
        "id": "Lz83L4Hgf554"
      },
      "source": [
        "# box plot to check outlier in each category\r\n",
        "def boxPlot(dff):\r\n",
        "    d = dff.drop(columns=['diagnosis'])\r\n",
        "    for column in d:\r\n",
        "        plt.figure(figsize=(5, 2))\r\n",
        "        sns.boxplot(x=column, data=d, palette=\"colorblind\")"
      ],
      "execution_count": 29,
      "outputs": []
    },
    {
      "cell_type": "code",
      "metadata": {
        "colab": {
          "base_uri": "https://localhost:8080/",
          "height": 1000
        },
        "id": "0S4pCfLOf9mj",
        "outputId": "3b280f34-9ae4-4bc2-d735-86353196ef06"
      },
      "source": [
        "boxPlot(df)"
      ],
      "execution_count": 30,
      "outputs": [
        {
          "output_type": "display_data",
          "data": {
            "image/png": "[encoded data removed]",
            "text/plain": [
              "<Figure size 360x144 with 1 Axes>"
            ]
          },
          "metadata": {
            "tags": [],
            "needs_background": "light"
          }
        },
        {
          "output_type": "display_data",
          "data": {
            "image/png": "[encoded data removed]",
            "text/plain": [
              "<Figure size 360x144 with 1 Axes>"
            ]
          },
          "metadata": {
            "tags": [],
            "needs_background": "light"
          }
        },
        {
          "output_type": "display_data",
          "data": {
            "image/png": "[encoded data removed]",
            "text/plain": [
              "<Figure size 360x144 with 1 Axes>"
            ]
          },
          "metadata": {
            "tags": [],
            "needs_background": "light"
          }
        },
        {
          "output_type": "display_data",
          "data": {
            "image/png": "[encoded data removed]",
            "text/plain": [
              "<Figure size 360x144 with 1 Axes>"
            ]
          },
          "metadata": {
            "tags": [],
            "needs_background": "light"
          }
        },
        {
          "output_type": "display_data",
          "data": {
            "image/png": "[encoded data removed]",
            "text/plain": [
              "<Figure size 360x144 with 1 Axes>"
            ]
          },
          "metadata": {
            "tags": [],
            "needs_background": "light"
          }
        },
        {
          "output_type": "display_data",
          "data": {
            "image/png": "[encoded data removed]",
            "text/plain": [
              "<Figure size 360x144 with 1 Axes>"
            ]
          },
          "metadata": {
            "tags": [],
            "needs_background": "light"
          }
        },
        {
          "output_type": "display_data",
          "data": {
            "image/png": "[encoded data removed]",
            "text/plain": [
              "<Figure size 360x144 with 1 Axes>"
            ]
          },
          "metadata": {
            "tags": [],
            "needs_background": "light"
          }
        },
        {
          "output_type": "display_data",
          "data": {
            "image/png": "[encoded data removed]",
            "text/plain": [
              "<Figure size 360x144 with 1 Axes>"
            ]
          },
          "metadata": {
            "tags": [],
            "needs_background": "light"
          }
        },
        {
          "output_type": "display_data",
          "data": {
            "image/png": "[encoded data removed]",
            "text/plain": [
              "<Figure size 360x144 with 1 Axes>"
            ]
          },
          "metadata": {
            "tags": [],
            "needs_background": "light"
          }
        },
        {
          "output_type": "display_data",
          "data": {
            "image/png": "[encoded data removed]",
            "text/plain": [
              "<Figure size 360x144 with 1 Axes>"
            ]
          },
          "metadata": {
            "tags": [],
            "needs_background": "light"
          }
        },
        {
          "output_type": "display_data",
          "data": {
            "image/png": "[encoded data removed]",
            "text/plain": [
              "<Figure size 360x144 with 1 Axes>"
            ]
          },
          "metadata": {
            "tags": [],
            "needs_background": "light"
          }
        },
        {
          "output_type": "display_data",
          "data": {
            "image/png": "[encoded data removed]",
            "text/plain": [
              "<Figure size 360x144 with 1 Axes>"
            ]
          },
          "metadata": {
            "tags": [],
            "needs_background": "light"
          }
        },
        {
          "output_type": "display_data",
          "data": {
            "image/png": "[encoded data removed]",
            "text/plain": [
              "<Figure size 360x144 with 1 Axes>"
            ]
          },
          "metadata": {
            "tags": [],
            "needs_background": "light"
          }
        },
        {
          "output_type": "display_data",
          "data": {
            "image/png": "[encoded data removed]",
            "text/plain": [
              "<Figure size 360x144 with 1 Axes>"
            ]
          },
          "metadata": {
            "tags": [],
            "needs_background": "light"
          }
        },
        {
          "output_type": "display_data",
          "data": {
            "image/png": "[encoded data removed]",
            "text/plain": [
              "<Figure size 360x144 with 1 Axes>"
            ]
          },
          "metadata": {
            "tags": [],
            "needs_background": "light"
          }
        },
        {
          "output_type": "display_data",
          "data": {
            "image/png": "[encoded data removed]",
            "text/plain": [
              "<Figure size 360x144 with 1 Axes>"
            ]
          },
          "metadata": {
            "tags": [],
            "needs_background": "light"
          }
        },
        {
          "output_type": "display_data",
          "data": {
            "image/png": "[encoded data removed]",
            "text/plain": [
              "<Figure size 360x144 with 1 Axes>"
            ]
          },
          "metadata": {
            "tags": [],
            "needs_background": "light"
          }
        },
        {
          "output_type": "display_data",
          "data": {
            "image/png": "[encoded data removed]",
            "text/plain": [
              "<Figure size 360x144 with 1 Axes>"
            ]
          },
          "metadata": {
            "tags": [],
            "needs_background": "light"
          }
        },
        {
          "output_type": "display_data",
          "data": {
            "image/png": "[encoded data removed]",
            "text/plain": [
              "<Figure size 360x144 with 1 Axes>"
            ]
          },
          "metadata": {
            "tags": [],
            "needs_background": "light"
          }
        },
        {
          "output_type": "display_data",
          "data": {
            "image/png": "[encoded data removed]",
            "text/plain": [
              "<Figure size 360x144 with 1 Axes>"
            ]
          },
          "metadata": {
            "tags": [],
            "needs_background": "light"
          }
        },
        {
          "output_type": "display_data",
          "data": {
            "image/png": "[encoded data removed]",
            "text/plain": [
              "<Figure size 360x144 with 1 Axes>"
            ]
          },
          "metadata": {
            "tags": [],
            "needs_background": "light"
          }
        },
        {
          "output_type": "display_data",
          "data": {
            "image/png": "[encoded data removed]",
            "text/plain": [
              "<Figure size 360x144 with 1 Axes>"
            ]
          },
          "metadata": {
            "tags": [],
            "needs_background": "light"
          }
        },
        {
          "output_type": "display_data",
          "data": {
            "image/png": "[encoded data removed]",
            "text/plain": [
              "<Figure size 360x144 with 1 Axes>"
            ]
          },
          "metadata": {
            "tags": [],
            "needs_background": "light"
          }
        },
        {
          "output_type": "display_data",
          "data": {
            "image/png": "[encoded data removed]",
            "text/plain": [
              "<Figure size 360x144 with 1 Axes>"
            ]
          },
          "metadata": {
            "tags": [],
            "needs_background": "light"
          }
        },
        {
          "output_type": "display_data",
          "data": {
            "image/png": "[encoded data removed]",
            "text/plain": [
              "<Figure size 360x144 with 1 Axes>"
            ]
          },
          "metadata": {
            "tags": [],
            "needs_background": "light"
          }
        },
        {
          "output_type": "display_data",
          "data": {
            "image/png": "[encoded data removed]",
            "text/plain": [
              "<Figure size 360x144 with 1 Axes>"
            ]
          },
          "metadata": {
            "tags": [],
            "needs_background": "light"
          }
        },
        {
          "output_type": "display_data",
          "data": {
            "image/png": "[encoded data removed]",
            "text/plain": [
              "<Figure size 360x144 with 1 Axes>"
            ]
          },
          "metadata": {
            "tags": [],
            "needs_background": "light"
          }
        },
        {
          "output_type": "display_data",
          "data": {
            "image/png": "[encoded data removed]",
            "text/plain": [
              "<Figure size 360x144 with 1 Axes>"
            ]
          },
          "metadata": {
            "tags": [],
            "needs_background": "light"
          }
        },
        {
          "output_type": "display_data",
          "data": {
            "image/png": "[encoded data removed]",
            "text/plain": [
              "<Figure size 360x144 with 1 Axes>"
            ]
          },
          "metadata": {
            "tags": [],
            "needs_background": "light"
          }
        },
        {
          "output_type": "display_data",
          "data": {
            "image/png": "[encoded data removed]",
            "text/plain": [
              "<Figure size 360x144 with 1 Axes>"
            ]
          },
          "metadata": {
            "tags": [],
            "needs_background": "light"
          }
        }
      ]
    },
    {
      "cell_type": "code",
      "metadata": {
        "id": "5ngPlkUsgB-k"
      },
      "source": [
        "\r\n",
        "# Quartile range\r\n",
        "\r\n",
        "Q1 = df.quantile(0.25)\r\n",
        "Q3 = df.quantile(0.75)\r\n",
        "inter_quartile_range = Q3 - Q1"
      ],
      "execution_count": 31,
      "outputs": []
    },
    {
      "cell_type": "code",
      "metadata": {
        "colab": {
          "base_uri": "https://localhost:8080/"
        },
        "id": "GYHMYlt1gJEd",
        "outputId": "5fc75e36-bc75-4664-a1e4-cf4647587c77"
      },
      "source": [
        "# quartiles and interquartile range\r\n",
        "\r\n",
        "df_out = df[~((df < (Q1 - (1.5 * inter_quartile_range))) | (df > (Q3 + (1.5 * inter_quartile_range)))).any(axis=1)]\r\n",
        "df.shape, df_out.shape"
      ],
      "execution_count": 32,
      "outputs": [
        {
          "output_type": "execute_result",
          "data": {
            "text/plain": [
              "((569, 31), (398, 31))"
            ]
          },
          "metadata": {
            "tags": []
          },
          "execution_count": 32
        }
      ]
    },
    {
      "cell_type": "code",
      "metadata": {
        "id": "lsM1zmplgLvf"
      },
      "source": [
        "# Separate labels and features\r\n",
        "X = df_out.drop(columns=['diagnosis'])\r\n",
        "y = df_out['diagnosis']"
      ],
      "execution_count": 33,
      "outputs": []
    },
    {
      "cell_type": "code",
      "metadata": {
        "colab": {
          "base_uri": "https://localhost:8080/"
        },
        "id": "jpwwVfBggOm0",
        "outputId": "41835b32-0a6d-40c1-cbe5-d18065c92ac7"
      },
      "source": [
        "# Convert the M to 1 and B to 0\r\n",
        "label = LabelEncoder()\r\n",
        "y = label.fit_transform(y)\r\n",
        "y[:20]"
      ],
      "execution_count": 34,
      "outputs": [
        {
          "output_type": "execute_result",
          "data": {
            "text/plain": [
              "array([0, 0, 0, 1, 0, 1, 1, 0, 1, 0, 0, 0, 0, 1, 1, 0, 0, 0, 0, 0])"
            ]
          },
          "metadata": {
            "tags": []
          },
          "execution_count": 34
        }
      ]
    },
    {
      "cell_type": "code",
      "metadata": {
        "colab": {
          "base_uri": "https://localhost:8080/"
        },
        "id": "0Pqn42QegRwq",
        "outputId": "a6e5cfca-ae94-419f-847e-30081a80c050"
      },
      "source": [
        "# Spilt the train and test data\r\n",
        "X_train, X_test, y_train, y_test = train_test_split(X, y, test_size=0.3)\r\n",
        "# we used 30% test data\r\n",
        "# check the size before beginning\r\n",
        "X_train.shape, X_test.shape, y_train.shape, y_test.shape"
      ],
      "execution_count": 35,
      "outputs": [
        {
          "output_type": "execute_result",
          "data": {
            "text/plain": [
              "((278, 30), (120, 30), (278,), (120,))"
            ]
          },
          "metadata": {
            "tags": []
          },
          "execution_count": 35
        }
      ]
    },
    {
      "cell_type": "code",
      "metadata": {
        "id": "5ITAibPDgXFY"
      },
      "source": [
        "# cross validation function\r\n",
        "def tn(y_true, y_pred):\r\n",
        "    return confusion_matrix(y_true, y_pred)[0, 0]\r\n",
        "\r\n",
        "\r\n",
        "def fp(y_true, y_pred):\r\n",
        "    return confusion_matrix(y_true, y_pred)[0, 1]\r\n",
        "\r\n",
        "\r\n",
        "def fn(y_true, y_pred):\r\n",
        "    return confusion_matrix(y_true, y_pred)[1, 0]\r\n",
        "\r\n",
        "\r\n",
        "def tp(y_true, y_pred):\r\n",
        "    return confusion_matrix(y_true, y_pred)[1, 1]\r\n",
        "\r\n",
        "\r\n",
        "def acc(y_true, y_pred):\r\n",
        "    return accuracy(y_true, y_pred)"
      ],
      "execution_count": 36,
      "outputs": []
    },
    {
      "cell_type": "code",
      "metadata": {
        "id": "LMhaHxhUgcNy"
      },
      "source": [
        "# custom accuracy\r\n",
        "def accuracy(y_true, y_pred):\r\n",
        "    cnf_matrix = confusion_matrix(y_true, y_pred)\r\n",
        "    N = sum(map(sum, cnf_matrix))\r\n",
        "    tp = cnf_matrix[1, 1]\r\n",
        "    tn = cnf_matrix[0, 0]\r\n",
        "    return round((tp + tn) / N, 2)"
      ],
      "execution_count": 37,
      "outputs": []
    },
    {
      "cell_type": "code",
      "metadata": {
        "id": "Uju7A2XPgfG9"
      },
      "source": [
        "# cross validation purpose\r\n",
        "scoring = {'accuracy': make_scorer(metrics.accuracy_score), 'prec': 'precision'}\r\n",
        "scoring = {'tp': make_scorer(tp), 'tn': make_scorer(tn),\r\n",
        "           'fp': make_scorer(fp), 'fn': make_scorer(fn),\r\n",
        "           'acc': make_scorer(acc)}\r\n"
      ],
      "execution_count": 38,
      "outputs": []
    },
    {
      "cell_type": "code",
      "metadata": {
        "id": "uUfRFUb1giE0"
      },
      "source": [
        "\r\n",
        "def print_result(result):\r\n",
        "    print(\"True Positive: \", result['test_tp'])\r\n",
        "    print(\"True Negative: \", result['test_tn'])\r\n",
        "    print(\"False Negative: \", result['test_fn'])\r\n",
        "    print(\"False Positive: \", result['test_fp'])\r\n",
        "    print(\"Accuracy: \", result['test_acc'])"
      ],
      "execution_count": 39,
      "outputs": []
    },
    {
      "cell_type": "code",
      "metadata": {
        "id": "oh5nC2s_gm41"
      },
      "source": [
        "\r\n",
        "acc = []\r\n",
        "roc = []"
      ],
      "execution_count": 40,
      "outputs": []
    },
    {
      "cell_type": "code",
      "metadata": {
        "id": "AiYXATx8gsNv"
      },
      "source": [
        "model = GaussianNB()\r\n",
        "model.fit(X_train, y_train)\r\n",
        "y_pred = model.predict(X_test)\r\n",
        "y_pred_train = model.predict(X_train)"
      ],
      "execution_count": 42,
      "outputs": []
    },
    {
      "cell_type": "code",
      "metadata": {
        "id": "wue6Xgnrgz20"
      },
      "source": [
        "LR = LogisticRegression()\r\n",
        "LR.fit(X_train, y_train)\r\n",
        "LR.score(X_train, y_train)\r\n",
        "y_pred = LR.predict(X_test)\r\n",
        "y_pred_train = model.predict(X_train)"
      ],
      "execution_count": 43,
      "outputs": []
    },
    {
      "cell_type": "code",
      "metadata": {
        "id": "6JNbhj7jg7XR"
      },
      "source": [
        "# find accuracy\r\n",
        "ac = accuracy_score(y_test, y_pred)\r\n",
        "acc.append(ac)\r\n",
        "ac_train = accuracy_score(y_train, y_pred_train)"
      ],
      "execution_count": 44,
      "outputs": []
    },
    {
      "cell_type": "code",
      "metadata": {
        "colab": {
          "base_uri": "https://localhost:8080/"
        },
        "id": "TvbikXLHg_bd",
        "outputId": "3095278d-9123-45c3-813f-e85d4f227148"
      },
      "source": [
        "\r\n",
        "# Code for ROC_AUC curve\r\n",
        "rc = roc_auc_score(y_test, y_pred)\r\n",
        "roc.append(rc)\r\n",
        "print(\"****************************************************\")\r\n",
        "print(\"Logistic Regression : \")\r\n",
        "print(\"Training Set Accuracy : \", ac_train)\r\n",
        "print(\"Test Set Accuracy {0} ROC {1}\".format(ac, rc))"
      ],
      "execution_count": 45,
      "outputs": [
        {
          "output_type": "stream",
          "text": [
            "****************************************************\n",
            "Logistic Regression : \n",
            "Training Set Accuracy :  0.9532374100719424\n",
            "Test Set Accuracy 0.9416666666666667 ROC 0.9186299383834723\n"
          ],
          "name": "stdout"
        }
      ]
    },
    {
      "cell_type": "code",
      "metadata": {
        "colab": {
          "base_uri": "https://localhost:8080/"
        },
        "id": "Kfprs6S_hDNn",
        "outputId": "60592f65-ea08-40e8-f5a5-9e15e72eea58"
      },
      "source": [
        "# cross validation shows how accurate our model is\r\n",
        "result = cross_validate(LR, X_train, y_train, scoring=scoring, cv=10)\r\n",
        "print_result(result)"
      ],
      "execution_count": 46,
      "outputs": [
        {
          "output_type": "stream",
          "text": [
            "True Positive:  [5 6 6 5 7 6 6 5 5 5]\n",
            "True Negative:  [22 20 19 21 21 20 21 21 21 19]\n",
            "False Negative:  [1 1 1 2 0 1 1 2 1 1]\n",
            "False Positive:  [0 1 2 0 0 1 0 0 0 2]\n",
            "Accuracy:  [0.96 0.93 0.89 0.93 1.   0.93 0.96 0.93 0.96 0.89]\n"
          ],
          "name": "stdout"
        }
      ]
    },
    {
      "cell_type": "code",
      "metadata": {
        "colab": {
          "base_uri": "https://localhost:8080/"
        },
        "id": "1mD30sDdhOyV",
        "outputId": "2a766ae7-7fbd-44df-ce48-902556a3c47c"
      },
      "source": [
        "ac = accuracy_score(y_test, y_pred)\r\n",
        "acc.append(ac)\r\n",
        "ac_train = accuracy_score(y_train, y_pred_train)\r\n",
        "rc = roc_auc_score(y_test, y_pred)\r\n",
        "roc.append(rc)\r\n",
        "print(\"Naive Bayes : \")\r\n",
        "print(\"Training Set Accuracy : \", ac_train)\r\n",
        "print(\"Test Set Accuracy {0} ROC {1}\".format(ac, rc))"
      ],
      "execution_count": 47,
      "outputs": [
        {
          "output_type": "stream",
          "text": [
            "Naive Bayes : \n",
            "Training Set Accuracy :  0.9532374100719424\n",
            "Test Set Accuracy 0.9416666666666667 ROC 0.9186299383834723\n"
          ],
          "name": "stdout"
        }
      ]
    },
    {
      "cell_type": "code",
      "metadata": {
        "colab": {
          "base_uri": "https://localhost:8080/"
        },
        "id": "L0mIiC7ShSHa",
        "outputId": "35a250c6-54f5-4a0f-a651-441b3ef207f1"
      },
      "source": [
        "# cross validation\r\n",
        "result = cross_validate(model, X_train, y_train, scoring=scoring, cv=10)\r\n",
        "print_result(result)"
      ],
      "execution_count": 48,
      "outputs": [
        {
          "output_type": "stream",
          "text": [
            "True Positive:  [5 7 7 7 7 6 6 7 6 6]\n",
            "True Negative:  [22 20 19 21 20 19 21 21 20 18]\n",
            "False Negative:  [1 0 0 0 0 1 1 0 0 0]\n",
            "False Positive:  [0 1 2 0 1 2 0 0 1 3]\n",
            "Accuracy:  [0.96 0.96 0.93 1.   0.96 0.89 0.96 1.   0.96 0.89]\n"
          ],
          "name": "stdout"
        }
      ]
    },
    {
      "cell_type": "code",
      "metadata": {
        "colab": {
          "base_uri": "https://localhost:8080/",
          "height": 297
        },
        "id": "7TB8MLl8haWh",
        "outputId": "fe231735-a15a-4dbe-cc68-fca6f0f815ec"
      },
      "source": [
        "plt.bar(['Logistic Regression', 'Naive Bayes'], acc,\r\n",
        "        color=['salmon',  'b'], label='Accuracy')\r\n",
        "plt.ylabel('Accuracy Score')\r\n",
        "plt.xlabel('Algortihms')"
      ],
      "execution_count": 49,
      "outputs": [
        {
          "output_type": "execute_result",
          "data": {
            "text/plain": [
              "Text(0.5, 0, 'Algortihms')"
            ]
          },
          "metadata": {
            "tags": []
          },
          "execution_count": 49
        },
        {
          "output_type": "display_data",
          "data": {
            "image/png": "[encoded data removed]",
            "text/plain": [
              "<Figure size 432x288 with 1 Axes>"
            ]
          },
          "metadata": {
            "tags": [],
            "needs_background": "light"
          }
        }
      ]
    },
    {
      "cell_type": "code",
      "metadata": {
        "colab": {
          "base_uri": "https://localhost:8080/",
          "height": 334
        },
        "id": "i0KAW7YjhpDh",
        "outputId": "4f9aa680-b24c-4ca5-ab5f-abc4e359c55a"
      },
      "source": [
        "plt.figure(figsize=(8, 5))\r\n",
        "plt.bar(['Logistic Regression', 'Naive Bayes'], roc,\r\n",
        "        color=['salmon', 'r'], label='ROC AUC')\r\n",
        "plt.ylabel('ROC AUC')\r\n",
        "plt.xlabel('Algortihms')\r\n",
        "plt.show()"
      ],
      "execution_count": 50,
      "outputs": [
        {
          "output_type": "display_data",
          "data": {
            "image/png": "[encoded data removed]",
            "text/plain": [
              "<Figure size 576x360 with 1 Axes>"
            ]
          },
          "metadata": {
            "tags": [],
            "needs_background": "light"
          }
        }
      ]
    }
  ]
}